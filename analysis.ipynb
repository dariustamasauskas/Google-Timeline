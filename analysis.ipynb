{
 "cells": [
  {
   "cell_type": "code",
   "execution_count": 1,
   "metadata": {},
   "outputs": [],
   "source": [
    "import pandas as pd\n",
    "import numpy as np\n",
    "import datetime as dt\n",
    "from geopy.geocoders import Nominatim\n",
    "import pickle\n",
    "import matplotlib.pyplot as plt"
   ]
  },
  {
   "cell_type": "markdown",
   "metadata": {},
   "source": [
    "## Prepare data"
   ]
  },
  {
   "cell_type": "code",
   "execution_count": 2,
   "metadata": {},
   "outputs": [
    {
     "data": {
      "text/plain": [
       "(886010, 5)"
      ]
     },
     "execution_count": 2,
     "metadata": {},
     "output_type": "execute_result"
    }
   ],
   "source": [
    "timeline_data = pd.read_csv('./data/parsed/timeline_data.csv')\n",
    "timeline_data.shape"
   ]
  },
  {
   "cell_type": "code",
   "execution_count": 3,
   "metadata": {},
   "outputs": [
    {
     "data": {
      "text/html": [
       "<div>\n",
       "<style scoped>\n",
       "    .dataframe tbody tr th:only-of-type {\n",
       "        vertical-align: middle;\n",
       "    }\n",
       "\n",
       "    .dataframe tbody tr th {\n",
       "        vertical-align: top;\n",
       "    }\n",
       "\n",
       "    .dataframe thead th {\n",
       "        text-align: right;\n",
       "    }\n",
       "</style>\n",
       "<table border=\"1\" class=\"dataframe\">\n",
       "  <thead>\n",
       "    <tr style=\"text-align: right;\">\n",
       "      <th></th>\n",
       "      <th>id</th>\n",
       "      <th>timestampMs</th>\n",
       "      <th>latitudeE7</th>\n",
       "      <th>longitudeE7</th>\n",
       "      <th>accuracy</th>\n",
       "    </tr>\n",
       "  </thead>\n",
       "  <tbody>\n",
       "    <tr>\n",
       "      <th>0</th>\n",
       "      <td>1</td>\n",
       "      <td>1395342553730</td>\n",
       "      <td>546874623</td>\n",
       "      <td>254226240</td>\n",
       "      <td>1019</td>\n",
       "    </tr>\n",
       "    <tr>\n",
       "      <th>1</th>\n",
       "      <td>2</td>\n",
       "      <td>1395342618598</td>\n",
       "      <td>546874623</td>\n",
       "      <td>254226240</td>\n",
       "      <td>1019</td>\n",
       "    </tr>\n",
       "    <tr>\n",
       "      <th>2</th>\n",
       "      <td>3</td>\n",
       "      <td>1395342818959</td>\n",
       "      <td>546880661</td>\n",
       "      <td>254107441</td>\n",
       "      <td>1440</td>\n",
       "    </tr>\n",
       "    <tr>\n",
       "      <th>3</th>\n",
       "      <td>4</td>\n",
       "      <td>1395342880250</td>\n",
       "      <td>546795194</td>\n",
       "      <td>254136012</td>\n",
       "      <td>1605</td>\n",
       "    </tr>\n",
       "    <tr>\n",
       "      <th>4</th>\n",
       "      <td>5</td>\n",
       "      <td>1395342999179</td>\n",
       "      <td>546795194</td>\n",
       "      <td>254136012</td>\n",
       "      <td>1605</td>\n",
       "    </tr>\n",
       "  </tbody>\n",
       "</table>\n",
       "</div>"
      ],
      "text/plain": [
       "   id    timestampMs  latitudeE7  longitudeE7  accuracy\n",
       "0   1  1395342553730   546874623    254226240      1019\n",
       "1   2  1395342618598   546874623    254226240      1019\n",
       "2   3  1395342818959   546880661    254107441      1440\n",
       "3   4  1395342880250   546795194    254136012      1605\n",
       "4   5  1395342999179   546795194    254136012      1605"
      ]
     },
     "execution_count": 3,
     "metadata": {},
     "output_type": "execute_result"
    }
   ],
   "source": [
    "timeline_data.head()"
   ]
  },
  {
   "cell_type": "code",
   "execution_count": 4,
   "metadata": {},
   "outputs": [],
   "source": [
    "# Converting unix timestamp to local date\n",
    "timeline_data['datetime_original'] = pd.to_datetime(timeline_data['timestampMs'] / 1000, unit='s')\n",
    "timeline_data['datetime_local'] = timeline_data['datetime_original'].dt.tz_localize('utc').dt.tz_convert('Europe/Vilnius')\n",
    "timeline_data['date'] = timeline_data['datetime_local'].dt.date"
   ]
  },
  {
   "cell_type": "code",
   "execution_count": 5,
   "metadata": {},
   "outputs": [],
   "source": [
    "# Converting latitude and longitude to correct format\n",
    "timeline_data['latitude'] = timeline_data['latitudeE7'] / 1e7\n",
    "timeline_data['longitude'] = timeline_data['longitudeE7'] / 1e7"
   ]
  },
  {
   "cell_type": "code",
   "execution_count": 6,
   "metadata": {},
   "outputs": [],
   "source": [
    "# Leaving only data points with high accuracy (< 1000)\n",
    "timeline_data = timeline_data[timeline_data['accuracy'] < 1000]"
   ]
  },
  {
   "cell_type": "code",
   "execution_count": 7,
   "metadata": {},
   "outputs": [
    {
     "data": {
      "text/plain": [
       "(752514, 3)"
      ]
     },
     "execution_count": 7,
     "metadata": {},
     "output_type": "execute_result"
    }
   ],
   "source": [
    "# Removing unnecessary columns\n",
    "timeline_data = timeline_data[['date','latitude','longitude']]\n",
    "timeline_data.shape"
   ]
  },
  {
   "cell_type": "code",
   "execution_count": 8,
   "metadata": {},
   "outputs": [
    {
     "data": {
      "text/html": [
       "<div>\n",
       "<style scoped>\n",
       "    .dataframe tbody tr th:only-of-type {\n",
       "        vertical-align: middle;\n",
       "    }\n",
       "\n",
       "    .dataframe tbody tr th {\n",
       "        vertical-align: top;\n",
       "    }\n",
       "\n",
       "    .dataframe thead th {\n",
       "        text-align: right;\n",
       "    }\n",
       "</style>\n",
       "<table border=\"1\" class=\"dataframe\">\n",
       "  <thead>\n",
       "    <tr style=\"text-align: right;\">\n",
       "      <th></th>\n",
       "      <th>date</th>\n",
       "      <th>latitude</th>\n",
       "      <th>longitude</th>\n",
       "    </tr>\n",
       "  </thead>\n",
       "  <tbody>\n",
       "    <tr>\n",
       "      <th>11</th>\n",
       "      <td>2014-03-20</td>\n",
       "      <td>54.667884</td>\n",
       "      <td>25.312876</td>\n",
       "    </tr>\n",
       "    <tr>\n",
       "      <th>14</th>\n",
       "      <td>2014-03-20</td>\n",
       "      <td>54.679505</td>\n",
       "      <td>25.287449</td>\n",
       "    </tr>\n",
       "    <tr>\n",
       "      <th>15</th>\n",
       "      <td>2014-03-20</td>\n",
       "      <td>54.679969</td>\n",
       "      <td>25.282376</td>\n",
       "    </tr>\n",
       "    <tr>\n",
       "      <th>16</th>\n",
       "      <td>2014-03-20</td>\n",
       "      <td>54.682736</td>\n",
       "      <td>25.279832</td>\n",
       "    </tr>\n",
       "    <tr>\n",
       "      <th>17</th>\n",
       "      <td>2014-03-20</td>\n",
       "      <td>54.683094</td>\n",
       "      <td>25.276664</td>\n",
       "    </tr>\n",
       "  </tbody>\n",
       "</table>\n",
       "</div>"
      ],
      "text/plain": [
       "          date   latitude  longitude\n",
       "11  2014-03-20  54.667884  25.312876\n",
       "14  2014-03-20  54.679505  25.287449\n",
       "15  2014-03-20  54.679969  25.282376\n",
       "16  2014-03-20  54.682736  25.279832\n",
       "17  2014-03-20  54.683094  25.276664"
      ]
     },
     "execution_count": 8,
     "metadata": {},
     "output_type": "execute_result"
    }
   ],
   "source": [
    "timeline_data.head()"
   ]
  },
  {
   "cell_type": "code",
   "execution_count": 9,
   "metadata": {},
   "outputs": [
    {
     "data": {
      "text/plain": [
       "(1918, 3)"
      ]
     },
     "execution_count": 9,
     "metadata": {},
     "output_type": "execute_result"
    }
   ],
   "source": [
    "# Grouping by date and finding median latitude and longitude values for each day\n",
    "timeline_data_grouped = timeline_data.groupby('date').median().reset_index()\n",
    "timeline_data_grouped.shape"
   ]
  },
  {
   "cell_type": "code",
   "execution_count": 10,
   "metadata": {},
   "outputs": [
    {
     "data": {
      "text/html": [
       "<div>\n",
       "<style scoped>\n",
       "    .dataframe tbody tr th:only-of-type {\n",
       "        vertical-align: middle;\n",
       "    }\n",
       "\n",
       "    .dataframe tbody tr th {\n",
       "        vertical-align: top;\n",
       "    }\n",
       "\n",
       "    .dataframe thead th {\n",
       "        text-align: right;\n",
       "    }\n",
       "</style>\n",
       "<table border=\"1\" class=\"dataframe\">\n",
       "  <thead>\n",
       "    <tr style=\"text-align: right;\">\n",
       "      <th></th>\n",
       "      <th>date</th>\n",
       "      <th>latitude</th>\n",
       "      <th>longitude</th>\n",
       "    </tr>\n",
       "  </thead>\n",
       "  <tbody>\n",
       "    <tr>\n",
       "      <th>0</th>\n",
       "      <td>2014-03-20</td>\n",
       "      <td>54.672454</td>\n",
       "      <td>25.250688</td>\n",
       "    </tr>\n",
       "    <tr>\n",
       "      <th>1</th>\n",
       "      <td>2014-03-21</td>\n",
       "      <td>54.695233</td>\n",
       "      <td>25.291235</td>\n",
       "    </tr>\n",
       "    <tr>\n",
       "      <th>2</th>\n",
       "      <td>2014-03-22</td>\n",
       "      <td>54.703384</td>\n",
       "      <td>25.296075</td>\n",
       "    </tr>\n",
       "    <tr>\n",
       "      <th>3</th>\n",
       "      <td>2014-03-23</td>\n",
       "      <td>54.672463</td>\n",
       "      <td>25.250683</td>\n",
       "    </tr>\n",
       "    <tr>\n",
       "      <th>4</th>\n",
       "      <td>2014-03-24</td>\n",
       "      <td>54.672464</td>\n",
       "      <td>25.250671</td>\n",
       "    </tr>\n",
       "  </tbody>\n",
       "</table>\n",
       "</div>"
      ],
      "text/plain": [
       "         date   latitude  longitude\n",
       "0  2014-03-20  54.672454  25.250688\n",
       "1  2014-03-21  54.695233  25.291235\n",
       "2  2014-03-22  54.703384  25.296075\n",
       "3  2014-03-23  54.672463  25.250683\n",
       "4  2014-03-24  54.672464  25.250671"
      ]
     },
     "execution_count": 10,
     "metadata": {},
     "output_type": "execute_result"
    }
   ],
   "source": [
    "timeline_data_grouped.head()"
   ]
  },
  {
   "cell_type": "markdown",
   "metadata": {},
   "source": [
    "=======================================================\n",
    "\n",
    "The reason for grouping all the data points by date is to minimize the number of coordinates for country extraction and have only 1 coordinate per day, which is a median of coordinates. It should reveal the most probable location for each day.\n",
    "\n",
    "The logic for extracting median of coordinates when grouping by day is to find the middle coordinates of all the coordinates during the day. This is better measure than first or last coordinates of the day, which might not capture all the abroad presence if the trip is starting/ending at the home country.\n",
    "\n",
    "======================================================="
   ]
  },
  {
   "cell_type": "markdown",
   "metadata": {},
   "source": [
    "## Extract country from coordinates"
   ]
  },
  {
   "cell_type": "code",
   "execution_count": null,
   "metadata": {},
   "outputs": [],
   "source": [
    "# Extract location from latitude and longitude using geopy\n",
    "geolocator = Nominatim(user_agent='my_google_timeline_project')\n",
    "\n",
    "coordinates = list(timeline_data_grouped[['latitude','longitude']].itertuples(index=False, name=None))\n",
    "\n",
    "locations = dict()\n",
    "i = 0\n",
    "\n",
    "for coord in coordinates:\n",
    "    location = geolocator.reverse(coord)\n",
    "    locations[i] = location\n",
    "    i += 1\n",
    "    print(i)"
   ]
  },
  {
   "cell_type": "code",
   "execution_count": 13,
   "metadata": {},
   "outputs": [
    {
     "data": {
      "text/plain": [
       "1918"
      ]
     },
     "execution_count": 13,
     "metadata": {},
     "output_type": "execute_result"
    }
   ],
   "source": [
    "len(locations)"
   ]
  },
  {
   "cell_type": "code",
   "execution_count": 14,
   "metadata": {},
   "outputs": [],
   "source": [
    "# Save extracted locations to pickle file\n",
    "with open('locations.pickle', 'wb') as handle:\n",
    "    pickle.dump(locations, handle, protocol=pickle.HIGHEST_PROTOCOL)"
   ]
  },
  {
   "cell_type": "code",
   "execution_count": 15,
   "metadata": {},
   "outputs": [],
   "source": [
    "# Load extracted locations (once locations are extracted above, no need to rerun the above code)\n",
    "with open('locations.pickle', 'rb') as handle:\n",
    "    locations = pickle.load(handle)"
   ]
  },
  {
   "cell_type": "code",
   "execution_count": 16,
   "metadata": {},
   "outputs": [
    {
     "data": {
      "text/plain": [
       "'5, Žemaitės g., Naujamiesčio namai, Vilkpėdės seniūnija, Vilnius, Vilniaus miesto savivaldybė, Vilniaus apskritis, 03125, Lietuva'"
      ]
     },
     "execution_count": 16,
     "metadata": {},
     "output_type": "execute_result"
    }
   ],
   "source": [
    "# The example of location string extracted using geopy\n",
    "locations[0][0]"
   ]
  },
  {
   "cell_type": "code",
   "execution_count": 17,
   "metadata": {},
   "outputs": [],
   "source": [
    "# Extract country from locations\n",
    "countries = dict()\n",
    "\n",
    "for i, loc in locations.items():\n",
    "    location_parsed = loc[0].split(',')\n",
    "        \n",
    "    if len(location_parsed) > 0:\n",
    "        country = location_parsed[-1].strip()\n",
    "    else:\n",
    "        country = ''\n",
    "        \n",
    "    countries[i] = [country]"
   ]
  },
  {
   "cell_type": "code",
   "execution_count": 18,
   "metadata": {},
   "outputs": [
    {
     "data": {
      "text/plain": [
       "(1918, 4)"
      ]
     },
     "execution_count": 18,
     "metadata": {},
     "output_type": "execute_result"
    }
   ],
   "source": [
    "# Join extracted country to dates\n",
    "locations_df = pd.DataFrame(countries).T\n",
    "locations_df.rename(columns={0:'country'}, inplace=True)\n",
    "timeline_data_joined = timeline_data_grouped.join(locations_df)\n",
    "timeline_data_joined.shape"
   ]
  },
  {
   "cell_type": "code",
   "execution_count": 19,
   "metadata": {},
   "outputs": [
    {
     "data": {
      "text/html": [
       "<div>\n",
       "<style scoped>\n",
       "    .dataframe tbody tr th:only-of-type {\n",
       "        vertical-align: middle;\n",
       "    }\n",
       "\n",
       "    .dataframe tbody tr th {\n",
       "        vertical-align: top;\n",
       "    }\n",
       "\n",
       "    .dataframe thead th {\n",
       "        text-align: right;\n",
       "    }\n",
       "</style>\n",
       "<table border=\"1\" class=\"dataframe\">\n",
       "  <thead>\n",
       "    <tr style=\"text-align: right;\">\n",
       "      <th></th>\n",
       "      <th>date</th>\n",
       "      <th>latitude</th>\n",
       "      <th>longitude</th>\n",
       "      <th>country</th>\n",
       "    </tr>\n",
       "  </thead>\n",
       "  <tbody>\n",
       "    <tr>\n",
       "      <th>0</th>\n",
       "      <td>2014-03-20</td>\n",
       "      <td>54.672454</td>\n",
       "      <td>25.250688</td>\n",
       "      <td>Lietuva</td>\n",
       "    </tr>\n",
       "    <tr>\n",
       "      <th>1</th>\n",
       "      <td>2014-03-21</td>\n",
       "      <td>54.695233</td>\n",
       "      <td>25.291235</td>\n",
       "      <td>Lietuva</td>\n",
       "    </tr>\n",
       "    <tr>\n",
       "      <th>2</th>\n",
       "      <td>2014-03-22</td>\n",
       "      <td>54.703384</td>\n",
       "      <td>25.296075</td>\n",
       "      <td>Lietuva</td>\n",
       "    </tr>\n",
       "    <tr>\n",
       "      <th>3</th>\n",
       "      <td>2014-03-23</td>\n",
       "      <td>54.672463</td>\n",
       "      <td>25.250683</td>\n",
       "      <td>Lietuva</td>\n",
       "    </tr>\n",
       "    <tr>\n",
       "      <th>4</th>\n",
       "      <td>2014-03-24</td>\n",
       "      <td>54.672464</td>\n",
       "      <td>25.250671</td>\n",
       "      <td>Lietuva</td>\n",
       "    </tr>\n",
       "  </tbody>\n",
       "</table>\n",
       "</div>"
      ],
      "text/plain": [
       "         date   latitude  longitude  country\n",
       "0  2014-03-20  54.672454  25.250688  Lietuva\n",
       "1  2014-03-21  54.695233  25.291235  Lietuva\n",
       "2  2014-03-22  54.703384  25.296075  Lietuva\n",
       "3  2014-03-23  54.672463  25.250683  Lietuva\n",
       "4  2014-03-24  54.672464  25.250671  Lietuva"
      ]
     },
     "execution_count": 19,
     "metadata": {},
     "output_type": "execute_result"
    }
   ],
   "source": [
    "timeline_data_joined.head()"
   ]
  },
  {
   "cell_type": "markdown",
   "metadata": {},
   "source": [
    "## Analyze countries visited"
   ]
  },
  {
   "cell_type": "code",
   "execution_count": 20,
   "metadata": {},
   "outputs": [
    {
     "data": {
      "text/plain": [
       "Lietuva           1815\n",
       "Danmark             39\n",
       "España              14\n",
       "United States       11\n",
       "Italia              10\n",
       "Portugal             6\n",
       "Ελλάς                6\n",
       "Eesti                5\n",
       "United Kingdom       4\n",
       "Deutschland          4\n",
       "San Marino           1\n",
       "Latvija              1\n",
       "Česko                1\n",
       "Polska               1\n",
       "Name: country, dtype: int64"
      ]
     },
     "execution_count": 20,
     "metadata": {},
     "output_type": "execute_result"
    }
   ],
   "source": [
    "# Number of days in each country during the whole period\n",
    "timeline_data_joined['country'].value_counts()"
   ]
  },
  {
   "cell_type": "code",
   "execution_count": 21,
   "metadata": {},
   "outputs": [
    {
     "data": {
      "image/png": "[encoded data removed]",
      "text/plain": [
       "<Figure size 864x720 with 1 Axes>"
      ]
     },
     "metadata": {
      "needs_background": "light"
     },
     "output_type": "display_data"
    }
   ],
   "source": [
    "fig, ax = plt.subplots(1, 1, figsize=(12,10))\n",
    "\n",
    "countries = np.array(timeline_data_joined['country'].value_counts().index)[::-1]\n",
    "countries_each = timeline_data_joined['country'].value_counts()\n",
    "countries_tot = timeline_data_joined['country'].value_counts().sum()\n",
    "countries_freq = np.array(round(countries_each / countries_tot * 100, 2))[::-1]\n",
    "\n",
    "rect = ax.barh(countries, countries_freq, color='steelblue')\n",
    "ax.bar_label(rect, padding=3)\n",
    "\n",
    "plt.title('Percentage of days in specific countries')\n",
    "plt.show()"
   ]
  },
  {
   "cell_type": "code",
   "execution_count": 22,
   "metadata": {
    "scrolled": true
   },
   "outputs": [
    {
     "data": {
      "text/plain": [
       "935     2017-02-20\n",
       "936     2017-02-21\n",
       "1042    2017-06-07\n",
       "1043    2017-06-08\n",
       "1342    2018-04-04\n",
       "1343    2018-04-05\n",
       "1344    2018-04-06\n",
       "1348    2018-04-10\n",
       "1524    2018-10-03\n",
       "1525    2018-10-04\n",
       "1526    2018-10-05\n",
       "1530    2018-10-09\n",
       "1531    2018-10-10\n",
       "1532    2018-10-11\n",
       "1543    2018-10-22\n",
       "1544    2018-10-23\n",
       "1545    2018-10-24\n",
       "1546    2018-10-25\n",
       "1547    2018-10-26\n",
       "1558    2018-11-06\n",
       "1559    2018-11-07\n",
       "1560    2018-11-08\n",
       "1566    2018-11-14\n",
       "1567    2018-11-15\n",
       "1569    2018-11-17\n",
       "1570    2018-11-18\n",
       "1571    2018-11-19\n",
       "1572    2018-11-20\n",
       "1573    2018-11-21\n",
       "1574    2018-11-22\n",
       "1580    2018-11-28\n",
       "1581    2018-11-29\n",
       "1585    2018-12-03\n",
       "1586    2018-12-04\n",
       "1587    2018-12-05\n",
       "1588    2018-12-06\n",
       "1639    2019-01-26\n",
       "1640    2019-01-27\n",
       "1641    2019-01-28\n",
       "Name: date, dtype: object"
      ]
     },
     "execution_count": 22,
     "metadata": {},
     "output_type": "execute_result"
    }
   ],
   "source": [
    "country_selected = 'Danmark'\n",
    "timeline_data_joined['date'][timeline_data_joined['country'] == country_selected]"
   ]
  },
  {
   "cell_type": "markdown",
   "metadata": {},
   "source": [
    "=======================================================\n",
    "\n",
    "As seen in the graph above, I have spent majority of days in my home country Lithuania (Lietuva) - more than 94% during the period from 2014-03 to 2019-10. Other days were spent in the following countries: Denmark, Spain, US, Italy, Portugal, etc.\n",
    "\n",
    "The most popular abroad country is Denmark with 39 days spent during the whole period, with the majority of days spent were from 2018 10 to 2018 11. The second popular abroad country is Spain with 14 days spent, all of them in 2016 May, the trip to Fuerteventura in Canaries, Spain.\n",
    "\n",
    "======================================================="
   ]
  },
  {
   "cell_type": "code",
   "execution_count": 23,
   "metadata": {},
   "outputs": [
    {
     "data": {
      "image/png": "[encoded data removed]",
      "text/plain": [
       "<Figure size 1296x432 with 1 Axes>"
      ]
     },
     "metadata": {
      "needs_background": "light"
     },
     "output_type": "display_data"
    }
   ],
   "source": [
    "fig, ax = plt.subplots(1, 1, figsize=(18,6))\n",
    "\n",
    "timeline_data_joined['year_month'] = timeline_data_joined['date'].astype(str).str[:7]\n",
    "timeline_data_joined_year_month = timeline_data_joined.groupby(['year_month']).count().reset_index()\n",
    "timeline_data_joined_year_month = timeline_data_joined_year_month[['year_month','date']]\n",
    "timeline_data_joined_year_month.rename(columns={'date':'monthly_day_count'}, inplace=True)\n",
    "\n",
    "timeline_data_abroad = timeline_data_joined[timeline_data_joined['country'] != 'Lietuva']\n",
    "timeline_data_abroad_year_month = timeline_data_abroad.groupby(['year_month']).count().reset_index()\n",
    "timeline_data_abroad_year_month = timeline_data_abroad_year_month[['year_month','date']]\n",
    "timeline_data_abroad_year_month.rename(columns={'date':'abroad_day_count'}, inplace=True)\n",
    "\n",
    "final_data = pd.merge(timeline_data_joined_year_month, timeline_data_abroad_year_month, on='year_month', how='left')\n",
    "final_data['abroad_day_count'] = final_data['abroad_day_count'].fillna(0)\n",
    "\n",
    "x = final_data['year_month']\n",
    "y = final_data['abroad_day_count']\n",
    "\n",
    "rect = ax.bar(x, y, color='steelblue')\n",
    "ax.bar_label(rect, padding=3)\n",
    "plt.xticks(x, rotation='vertical')\n",
    "\n",
    "plt.title('Number of days in abroad countries per each month')\n",
    "plt.show()"
   ]
  },
  {
   "cell_type": "code",
   "execution_count": 24,
   "metadata": {},
   "outputs": [
    {
     "data": {
      "text/html": [
       "<div>\n",
       "<style scoped>\n",
       "    .dataframe tbody tr th:only-of-type {\n",
       "        vertical-align: middle;\n",
       "    }\n",
       "\n",
       "    .dataframe tbody tr th {\n",
       "        vertical-align: top;\n",
       "    }\n",
       "\n",
       "    .dataframe thead th {\n",
       "        text-align: right;\n",
       "    }\n",
       "</style>\n",
       "<table border=\"1\" class=\"dataframe\">\n",
       "  <thead>\n",
       "    <tr style=\"text-align: right;\">\n",
       "      <th></th>\n",
       "      <th>date</th>\n",
       "      <th>latitude</th>\n",
       "      <th>longitude</th>\n",
       "      <th>country</th>\n",
       "      <th>year_month</th>\n",
       "    </tr>\n",
       "  </thead>\n",
       "  <tbody>\n",
       "    <tr>\n",
       "      <th>970</th>\n",
       "      <td>2017-03-27</td>\n",
       "      <td>41.145402</td>\n",
       "      <td>-8.603914</td>\n",
       "      <td>Portugal</td>\n",
       "      <td>2017-03</td>\n",
       "    </tr>\n",
       "    <tr>\n",
       "      <th>971</th>\n",
       "      <td>2017-03-28</td>\n",
       "      <td>38.714914</td>\n",
       "      <td>-9.155085</td>\n",
       "      <td>Portugal</td>\n",
       "      <td>2017-03</td>\n",
       "    </tr>\n",
       "    <tr>\n",
       "      <th>972</th>\n",
       "      <td>2017-03-29</td>\n",
       "      <td>37.087399</td>\n",
       "      <td>-8.246294</td>\n",
       "      <td>Portugal</td>\n",
       "      <td>2017-03</td>\n",
       "    </tr>\n",
       "    <tr>\n",
       "      <th>973</th>\n",
       "      <td>2017-03-30</td>\n",
       "      <td>37.087399</td>\n",
       "      <td>-8.246223</td>\n",
       "      <td>Portugal</td>\n",
       "      <td>2017-03</td>\n",
       "    </tr>\n",
       "    <tr>\n",
       "      <th>974</th>\n",
       "      <td>2017-03-31</td>\n",
       "      <td>41.145463</td>\n",
       "      <td>-8.605202</td>\n",
       "      <td>Portugal</td>\n",
       "      <td>2017-03</td>\n",
       "    </tr>\n",
       "  </tbody>\n",
       "</table>\n",
       "</div>"
      ],
      "text/plain": [
       "           date   latitude  longitude   country year_month\n",
       "970  2017-03-27  41.145402  -8.603914  Portugal    2017-03\n",
       "971  2017-03-28  38.714914  -9.155085  Portugal    2017-03\n",
       "972  2017-03-29  37.087399  -8.246294  Portugal    2017-03\n",
       "973  2017-03-30  37.087399  -8.246223  Portugal    2017-03\n",
       "974  2017-03-31  41.145463  -8.605202  Portugal    2017-03"
      ]
     },
     "execution_count": 24,
     "metadata": {},
     "output_type": "execute_result"
    }
   ],
   "source": [
    "date_selected = '2017-03'\n",
    "timeline_data_abroad[timeline_data_abroad['year_month'] == date_selected]"
   ]
  },
  {
   "cell_type": "markdown",
   "metadata": {},
   "source": [
    "=======================================================\n",
    "\n",
    "It is interesting how many days per month were spent abroad on each month. As we see in the graph above, a lot of months were spent entirely in my home country, but some of the months were spent abroad. The most days per month spent abroad was on 2016 05, the same trip to Fuerteventura, Spain. \n",
    "\n",
    "======================================================="
   ]
  },
  {
   "cell_type": "code",
   "execution_count": null,
   "metadata": {},
   "outputs": [],
   "source": []
  }
 ],
 "metadata": {
  "kernelspec": {
   "display_name": "Python 3",
   "language": "python",
   "name": "python3"
  },
  "language_info": {
   "codemirror_mode": {
    "name": "ipython",
    "version": 3
   },
   "file_extension": ".py",
   "mimetype": "text/x-python",
   "name": "python",
   "nbconvert_exporter": "python",
   "pygments_lexer": "ipython3",
   "version": "3.8.3"
  },
  "toc": {
   "base_numbering": 1,
   "nav_menu": {},
   "number_sections": true,
   "sideBar": true,
   "skip_h1_title": false,
   "title_cell": "Table of Contents",
   "title_sidebar": "Contents",
   "toc_cell": false,
   "toc_position": {},
   "toc_section_display": true,
   "toc_window_display": false
  }
 },
 "nbformat": 4,
 "nbformat_minor": 2
}
